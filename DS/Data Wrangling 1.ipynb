{
 "cells": [
  {
   "cell_type": "code",
   "execution_count": 24,
   "id": "9441ebe3",
   "metadata": {},
   "outputs": [],
   "source": [
    "import seaborn as sns\n",
    "import pandas as pd\n",
    "import numpy as np\n",
    "from sklearn.preprocessing import MinMaxScaler, LabelEncoder"
   ]
  },
  {
   "cell_type": "code",
   "execution_count": 9,
   "id": "73ffd26b",
   "metadata": {},
   "outputs": [],
   "source": [
    "df = pd.read_csv('../DATASETS/IRIS.csv')"
   ]
  },
  {
   "cell_type": "code",
   "execution_count": 25,
   "id": "3621ac88",
   "metadata": {},
   "outputs": [
    {
     "name": "stdout",
     "output_type": "stream",
     "text": [
      "First 5 rows: \n",
      "\n",
      "   sepal_length  sepal_width  petal_length  petal_width      species\n",
      "0           5.1          3.5           1.4          0.2  Iris-setosa\n",
      "1           4.9          3.0           1.4          0.2  Iris-setosa\n",
      "2           4.7          3.2           1.3          0.2  Iris-setosa\n",
      "3           4.6          3.1           1.5          0.2  Iris-setosa\n",
      "4           5.0          3.6           1.4          0.2  Iris-setosa\n",
      "\n",
      "Data description: \n",
      "\n",
      "       sepal_length  sepal_width  petal_length  petal_width\n",
      "count    150.000000   150.000000    150.000000   150.000000\n",
      "mean       5.843333     3.054000      3.758667     1.198667\n",
      "std        0.828066     0.433594      1.764420     0.763161\n",
      "min        4.300000     2.000000      1.000000     0.100000\n",
      "25%        5.100000     2.800000      1.600000     0.300000\n",
      "50%        5.800000     3.000000      4.350000     1.300000\n",
      "75%        6.400000     3.300000      5.100000     1.800000\n",
      "max        7.900000     4.400000      6.900000     2.500000\n",
      "\n",
      "Data info: \n",
      "\n",
      "<class 'pandas.core.frame.DataFrame'>\n",
      "RangeIndex: 150 entries, 0 to 149\n",
      "Data columns (total 5 columns):\n",
      " #   Column        Non-Null Count  Dtype  \n",
      "---  ------        --------------  -----  \n",
      " 0   sepal_length  150 non-null    float64\n",
      " 1   sepal_width   150 non-null    float64\n",
      " 2   petal_length  150 non-null    float64\n",
      " 3   petal_width   150 non-null    float64\n",
      " 4   species       150 non-null    object \n",
      "dtypes: float64(4), object(1)\n",
      "memory usage: 6.0+ KB\n",
      "None\n",
      "\n",
      "Data Shape: \n",
      "\n",
      "(150, 5)\n",
      "\n",
      "Null values: \n",
      "\n",
      "     sepal_length  sepal_width  petal_length  petal_width  species\n",
      "0           False        False         False        False    False\n",
      "1           False        False         False        False    False\n",
      "2           False        False         False        False    False\n",
      "3           False        False         False        False    False\n",
      "4           False        False         False        False    False\n",
      "..            ...          ...           ...          ...      ...\n",
      "145         False        False         False        False    False\n",
      "146         False        False         False        False    False\n",
      "147         False        False         False        False    False\n",
      "148         False        False         False        False    False\n",
      "149         False        False         False        False    False\n",
      "\n",
      "[150 rows x 5 columns]\n"
     ]
    }
   ],
   "source": [
    "print(\"First 5 rows: \\n\")\n",
    "print(df.head())\n",
    "\n",
    "print(\"\\nData description: \\n\")\n",
    "print(df.describe())\n",
    "\n",
    "print(\"\\nData info: \\n\")\n",
    "print(df.info())\n",
    "\n",
    "print(\"\\nData Shape: \\n\")\n",
    "print(df.shape)\n",
    "\n",
    "print(\"\\nNull values: \\n\")\n",
    "print(df.isnull())"
   ]
  },
  {
   "cell_type": "code",
   "execution_count": 26,
   "id": "55c291e3",
   "metadata": {},
   "outputs": [
    {
     "name": "stdout",
     "output_type": "stream",
     "text": [
      "sepal_length    float64\n",
      "sepal_width     float64\n",
      "petal_length    float64\n",
      "petal_width     float64\n",
      "species          object\n",
      "dtype: object\n"
     ]
    }
   ],
   "source": [
    "# Data formatting\n",
    "print(df.dtypes)"
   ]
  },
  {
   "cell_type": "code",
   "execution_count": 27,
   "id": "7dd38f2f",
   "metadata": {},
   "outputs": [
    {
     "name": "stdout",
     "output_type": "stream",
     "text": [
      "Index([0, 1, 2, 3, 'species'], dtype='object')\n"
     ]
    }
   ],
   "source": [
    "# Normalize numeric columns\n",
    "features = df.drop(columns=['species'])\n",
    "scaler = MinMaxScaler()\n",
    "df_n = pd.DataFrame(scaler.fit_transform(features))\n",
    "\n",
    "df_normalized = pd.concat([df_n, df['species']], axis=1)\n",
    "\n",
    "print(df_normalized.columns)"
   ]
  },
  {
   "cell_type": "code",
   "execution_count": 28,
   "id": "ca04c0ac",
   "metadata": {},
   "outputs": [
    {
     "name": "stdout",
     "output_type": "stream",
     "text": [
      "          0         1         2         3  species\n",
      "0  0.222222  0.625000  0.067797  0.041667        0\n",
      "1  0.166667  0.416667  0.067797  0.041667        0\n",
      "2  0.111111  0.500000  0.050847  0.041667        0\n",
      "3  0.083333  0.458333  0.084746  0.041667        0\n",
      "4  0.194444  0.666667  0.067797  0.041667        0\n"
     ]
    }
   ],
   "source": [
    "# Categorical Encoding\n",
    "\n",
    "encoder = LabelEncoder()\n",
    "\n",
    "df_normalized['species'] = encoder.fit_transform(df_normalized['species'])\n",
    "\n",
    "print(df_normalized.head())"
   ]
  },
  {
   "cell_type": "code",
   "execution_count": null,
   "id": "02978a1e",
   "metadata": {},
   "outputs": [],
   "source": []
  }
 ],
 "metadata": {
  "kernelspec": {
   "display_name": "Python 3 (ipykernel)",
   "language": "python",
   "name": "python3"
  },
  "language_info": {
   "codemirror_mode": {
    "name": "ipython",
    "version": 3
   },
   "file_extension": ".py",
   "mimetype": "text/x-python",
   "name": "python",
   "nbconvert_exporter": "python",
   "pygments_lexer": "ipython3",
   "version": "3.10.12"
  }
 },
 "nbformat": 4,
 "nbformat_minor": 5
}
